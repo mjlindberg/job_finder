{
 "cells": [
  {
   "cell_type": "markdown",
   "id": "aggressive-selection",
   "metadata": {},
   "source": [
    "# Exploring job search results (LinkedIn)"
   ]
  },
  {
   "cell_type": "code",
   "execution_count": 47,
   "id": "occupational-telephone",
   "metadata": {},
   "outputs": [],
   "source": [
    "import json\n",
    "import pandas as pd"
   ]
  },
  {
   "cell_type": "code",
   "execution_count": 48,
   "metadata": {},
   "outputs": [],
   "source": [
    "jobs = json.load(open(\"/home/marcus/Documents/VM_shared/marcus-lindberg/custom_tools/job_finder/2022-04-29_jobs.json\", \"r\"))"
   ]
  },
  {
   "cell_type": "code",
   "execution_count": 49,
   "metadata": {},
   "outputs": [
    {
     "output_type": "execute_result",
     "data": {
      "text/plain": [
       "dict_keys(['2022-04-29'])"
      ]
     },
     "metadata": {},
     "execution_count": 49
    }
   ],
   "source": [
    "jobs.keys()"
   ]
  },
  {
   "cell_type": "code",
   "execution_count": 50,
   "metadata": {},
   "outputs": [
    {
     "output_type": "execute_result",
     "data": {
      "text/plain": [
       "{'title': '\\n          \\n            \\n        \\n        Trainee - Cell Metabolism and Anti-Infectives Biology\\n      \\n      \\n          \\n        ',\n",
       " 'url': 'https://ch.linkedin.com/jobs/view/trainee-cell-metabolism-and-anti-infectives-biology-at-idorsia-pharmaceuticals-ltd-3049211446',\n",
       " 'id': 1,\n",
       " 'language': 'en',\n",
       " 'description': 'About Idorsia Pharmaceuticals Ltd\\n\\nIdorsia Ltd is reaching out for more - We have more ideas, we see more opportunities and we want to help more patients.\\n\\nIn order to achieve this, we want to develop Idorsia into one of Europe’s leading biopharmaceutical companies, with a strong scientific core.\\n\\nHeadquartered in Switzerland - a European biotech hub - Idorsia is specialized in the discovery and development of small molecules, to transform the horizon of therapeutic options. Idorsia has a broad portfolio of innovative drugs in the pipeline, an experienced team, a fully-functional research center, and a strong balance sheet – the ideal constellation to bringing R&D efforts to business success.\\n\\nIdorsia was listed on the SIX Swiss Exchange (ticker symbol: IDIA) in June 2017 and has over 1,000 highly qualified specialists dedicated to realizing our ambitious targets.\\n\\n\\n\\nThe goal is to support the discovery of new targets in metabolism and the day-to-day activities of the Analytical Chemistry group.\\n\\nThe successful candidate will work in the Analytical Chemistry group and will be jointly supervised by the Cell Metabolism and Anti-Infectives Biology group. She or he will help establish untargeted and targeted liquid chromatography-mass spectrometry (LC-MS) methods to (1) validate new drug targets based on metabolomic profiling of samples from in vitro (e.g. cell culture) and in vivo experiments (e.g. tissue samples), and to (2) support the quality control of small molecule drug candidates. In addition, the successful candidate will facilitate the LC-MS based analysis of chemically diverse compounds to assess biophysical and chemical characteristics required for uptake into mitochondria.\\n\\n\\n\\n\\n\\n\\n\\nAllschwil – Basel Area\\n\\nSwitzerland\\n\\nDrug Discovery Biology - Cell Metabolism and Anti-Infectives\\n\\nFull-time\\n\\nTemporary\\n\\n3126\\n\\nIf you are interested, please click on apply now.\\n\\nPlease be informed that if you are selected for this position, your employment will be subject to a pre-employment background screening process, of which you would be informed in greater detail in due course.\\n\\nPlease note Idorsia operates a strictly controlled list of preferred recruitment partners. For those partners who have no valid, signed Master Service Agreement in place with Idorsia, all unsolicited resumes, CVs, anonymous profiles, or any other candidate details submitted through our website or to personal e-mail accounts of employees of Idorsia Pharmaceuticals (including any of its subsidiaries, affiliates, or related companies) are considered the property of Idorsia Pharmaceuticals and are not subject to payment of any form of introduction, placement or referral fees.',\n",
       " 'score': 0}"
      ]
     },
     "metadata": {},
     "execution_count": 50
    }
   ],
   "source": [
    "jobs['2022-04-29']['1']"
   ]
  },
  {
   "cell_type": "code",
   "execution_count": 51,
   "metadata": {},
   "outputs": [
    {
     "output_type": "execute_result",
     "data": {
      "text/plain": [
       "                                                             1  \\\n",
       "title        Trainee - Cell Metabolism and Anti-Infectives ...   \n",
       "url          https://ch.linkedin.com/jobs/view/trainee-cell...   \n",
       "id                                                           1   \n",
       "language                                                    en   \n",
       "description  About Idorsia Pharmaceuticals Ltd\\n\\nIdorsia L...   \n",
       "score                                                        0   \n",
       "\n",
       "                                                             2  \\\n",
       "title        Student Internship for the Development of DNA ...   \n",
       "url          https://ch.linkedin.com/jobs/view/student-inte...   \n",
       "id                                                           2   \n",
       "language                                                    en   \n",
       "description  At Roche, we believe it’s urgent to deliver me...   \n",
       "score                                                        0   \n",
       "\n",
       "                                                             3  \\\n",
       "title                       Student Internship in Immunosafety   \n",
       "url          https://ch.linkedin.com/jobs/view/student-inte...   \n",
       "id                                                           3   \n",
       "language                                                    en   \n",
       "description  Pharmaceutical Sciences (PS) is a global funct...   \n",
       "score                                                        0   \n",
       "\n",
       "                                                             4  \\\n",
       "title        Student Internship for the development of Spat...   \n",
       "url          https://ch.linkedin.com/jobs/view/student-inte...   \n",
       "id                                                           4   \n",
       "language                                                    en   \n",
       "description  At Roche, we believe it’s urgent to deliver me...   \n",
       "score                                                        0   \n",
       "\n",
       "                                                             5  \\\n",
       "title        Master Student Internship in Genetics and Geno...   \n",
       "url          https://ch.linkedin.com/jobs/view/master-stude...   \n",
       "id                                                           5   \n",
       "language                                                    en   \n",
       "description  At Roche, we believe it’s urgent to deliver me...   \n",
       "score                                                        0   \n",
       "\n",
       "                                                             6  \\\n",
       "title                       Research Associate, Cancer Biology   \n",
       "url          https://ch.linkedin.com/jobs/view/research-ass...   \n",
       "id                                                           6   \n",
       "language                                                    en   \n",
       "description  Monte Rosa Therapeutics is looking for an ener...   \n",
       "score                                                        0   \n",
       "\n",
       "                                                             7  \\\n",
       "title        Systems Biology Internship (9-12 months, start...   \n",
       "url          https://ch.linkedin.com/jobs/view/systems-biol...   \n",
       "id                                                           7   \n",
       "language                                                    en   \n",
       "description  Who we are\\n\\nAt Roche, we believe it’s urgent...   \n",
       "score                                                        0   \n",
       "\n",
       "                                                             8  \\\n",
       "title        Student Internship in Computational Biology (s...   \n",
       "url          https://ch.linkedin.com/jobs/view/student-inte...   \n",
       "id                                                           8   \n",
       "language                                                    en   \n",
       "description  At Roche, we believe it’s urgent to deliver me...   \n",
       "score                                                        0   \n",
       "\n",
       "                                                             9  \\\n",
       "title                          Internship Recent Graduate NIBR   \n",
       "url          https://ch.linkedin.com/jobs/view/internship-r...   \n",
       "id                                                           9   \n",
       "language                                                    en   \n",
       "description  Job Description\\n\\n6000! That’s the number of ...   \n",
       "score                                                        0   \n",
       "\n",
       "                                                            10  ...  \\\n",
       "title        Internship in Protein Production / Engineering...  ...   \n",
       "url          https://ch.linkedin.com/jobs/view/internship-i...  ...   \n",
       "id                                                          10  ...   \n",
       "language                                                    en  ...   \n",
       "description  Cimeio Therapeutics offers an Internship in th...  ...   \n",
       "score                                                        0  ...   \n",
       "\n",
       "                                                           150  \\\n",
       "title         Director, Head of CADD / Computational Chemistry   \n",
       "url          https://ch.linkedin.com/jobs/view/director-hea...   \n",
       "id                                                         150   \n",
       "language                                                    en   \n",
       "description  Monte Rosa Therapeutics (MRT) seeks to recruit...   \n",
       "score                                                        0   \n",
       "\n",
       "                                                           151  \\\n",
       "title                              Real-World Data Domain Lead   \n",
       "url          https://ch.linkedin.com/jobs/view/real-world-d...   \n",
       "id                                                         151   \n",
       "language                                                    en   \n",
       "description  About Syngenta\\n\\nDescription\\n\\nSyngenta is l...   \n",
       "score                                                        0   \n",
       "\n",
       "                                                           152  \\\n",
       "title                                         Python Developer   \n",
       "url          https://ch.linkedin.com/jobs/view/python-devel...   \n",
       "id                                                         152   \n",
       "language                                                    en   \n",
       "description  We are a Life Science and IT service provider ...   \n",
       "score                                                        0   \n",
       "\n",
       "                                                           153  \\\n",
       "title             Full Stack Software Engineer - Life Sciences   \n",
       "url          https://ch.linkedin.com/jobs/view/full-stack-s...   \n",
       "id                                                         153   \n",
       "language                                                    en   \n",
       "description  We are seeking an energetic and self-motivated...   \n",
       "score                                                        0   \n",
       "\n",
       "                                                           154  \\\n",
       "title        Head, Adult Central Nervous System Models – Ro...   \n",
       "url          https://ch.linkedin.com/jobs/view/head-adult-c...   \n",
       "id                                                         154   \n",
       "language                                                    en   \n",
       "description  In Roche Pharmaceutical Research and Early Dev...   \n",
       "score                                                        0   \n",
       "\n",
       "                                                           155  \\\n",
       "title        Medical Director, Product Development Oncology...   \n",
       "url          https://ch.linkedin.com/jobs/view/medical-dire...   \n",
       "id                                                         155   \n",
       "language                                                    en   \n",
       "description  Roche's Clinical Development organization is s...   \n",
       "score                                                        0   \n",
       "\n",
       "                                                           156  \\\n",
       "title          Lead/Senior Medical Director Pediatric Oncology   \n",
       "url          https://ch.linkedin.com/jobs/view/lead-senior-...   \n",
       "id                                                         156   \n",
       "language                                                    en   \n",
       "description  The Lead / Senior Medical Director for Roche I...   \n",
       "score                                                        0   \n",
       "\n",
       "                                                           157  \\\n",
       "title                    Global Account Director Life Sciences   \n",
       "url          https://ch.linkedin.com/jobs/view/global-accou...   \n",
       "id                                                         157   \n",
       "language                                                    en   \n",
       "description  The Adecco Group is the world’s leading HR sol...   \n",
       "score                                                        0   \n",
       "\n",
       "                                                           158  \\\n",
       "title        Medical Director, Product Development Oncology...   \n",
       "url          https://ch.linkedin.com/jobs/view/medical-dire...   \n",
       "id                                                         158   \n",
       "language                                                    en   \n",
       "description  The Position\\n\\nRoche's Clinical Development o...   \n",
       "score                                                        0   \n",
       "\n",
       "                                                           159  \n",
       "title              Data Engineer Consultant and Technical Lead  \n",
       "url          https://ch.linkedin.com/jobs/view/data-enginee...  \n",
       "id                                                         159  \n",
       "language                                                    en  \n",
       "description  We are a Life Science and IT service provider ...  \n",
       "score                                                        0  \n",
       "\n",
       "[6 rows x 159 columns]"
      ],
      "text/html": "<div>\n<style scoped>\n    .dataframe tbody tr th:only-of-type {\n        vertical-align: middle;\n    }\n\n    .dataframe tbody tr th {\n        vertical-align: top;\n    }\n\n    .dataframe thead th {\n        text-align: right;\n    }\n</style>\n<table border=\"1\" class=\"dataframe\">\n  <thead>\n    <tr style=\"text-align: right;\">\n      <th></th>\n      <th>1</th>\n      <th>2</th>\n      <th>3</th>\n      <th>4</th>\n      <th>5</th>\n      <th>6</th>\n      <th>7</th>\n      <th>8</th>\n      <th>9</th>\n      <th>10</th>\n      <th>...</th>\n      <th>150</th>\n      <th>151</th>\n      <th>152</th>\n      <th>153</th>\n      <th>154</th>\n      <th>155</th>\n      <th>156</th>\n      <th>157</th>\n      <th>158</th>\n      <th>159</th>\n    </tr>\n  </thead>\n  <tbody>\n    <tr>\n      <th>title</th>\n      <td>Trainee - Cell Metabolism and Anti-Infectives ...</td>\n      <td>Student Internship for the Development of DNA ...</td>\n      <td>Student Internship in Immunosafety</td>\n      <td>Student Internship for the development of Spat...</td>\n      <td>Master Student Internship in Genetics and Geno...</td>\n      <td>Research Associate, Cancer Biology</td>\n      <td>Systems Biology Internship (9-12 months, start...</td>\n      <td>Student Internship in Computational Biology (s...</td>\n      <td>Internship Recent Graduate NIBR</td>\n      <td>Internship in Protein Production / Engineering...</td>\n      <td>...</td>\n      <td>Director, Head of CADD / Computational Chemistry</td>\n      <td>Real-World Data Domain Lead</td>\n      <td>Python Developer</td>\n      <td>Full Stack Software Engineer - Life Sciences</td>\n      <td>Head, Adult Central Nervous System Models – Ro...</td>\n      <td>Medical Director, Product Development Oncology...</td>\n      <td>Lead/Senior Medical Director Pediatric Oncology</td>\n      <td>Global Account Director Life Sciences</td>\n      <td>Medical Director, Product Development Oncology...</td>\n      <td>Data Engineer Consultant and Technical Lead</td>\n    </tr>\n    <tr>\n      <th>url</th>\n      <td>https://ch.linkedin.com/jobs/view/trainee-cell...</td>\n      <td>https://ch.linkedin.com/jobs/view/student-inte...</td>\n      <td>https://ch.linkedin.com/jobs/view/student-inte...</td>\n      <td>https://ch.linkedin.com/jobs/view/student-inte...</td>\n      <td>https://ch.linkedin.com/jobs/view/master-stude...</td>\n      <td>https://ch.linkedin.com/jobs/view/research-ass...</td>\n      <td>https://ch.linkedin.com/jobs/view/systems-biol...</td>\n      <td>https://ch.linkedin.com/jobs/view/student-inte...</td>\n      <td>https://ch.linkedin.com/jobs/view/internship-r...</td>\n      <td>https://ch.linkedin.com/jobs/view/internship-i...</td>\n      <td>...</td>\n      <td>https://ch.linkedin.com/jobs/view/director-hea...</td>\n      <td>https://ch.linkedin.com/jobs/view/real-world-d...</td>\n      <td>https://ch.linkedin.com/jobs/view/python-devel...</td>\n      <td>https://ch.linkedin.com/jobs/view/full-stack-s...</td>\n      <td>https://ch.linkedin.com/jobs/view/head-adult-c...</td>\n      <td>https://ch.linkedin.com/jobs/view/medical-dire...</td>\n      <td>https://ch.linkedin.com/jobs/view/lead-senior-...</td>\n      <td>https://ch.linkedin.com/jobs/view/global-accou...</td>\n      <td>https://ch.linkedin.com/jobs/view/medical-dire...</td>\n      <td>https://ch.linkedin.com/jobs/view/data-enginee...</td>\n    </tr>\n    <tr>\n      <th>id</th>\n      <td>1</td>\n      <td>2</td>\n      <td>3</td>\n      <td>4</td>\n      <td>5</td>\n      <td>6</td>\n      <td>7</td>\n      <td>8</td>\n      <td>9</td>\n      <td>10</td>\n      <td>...</td>\n      <td>150</td>\n      <td>151</td>\n      <td>152</td>\n      <td>153</td>\n      <td>154</td>\n      <td>155</td>\n      <td>156</td>\n      <td>157</td>\n      <td>158</td>\n      <td>159</td>\n    </tr>\n    <tr>\n      <th>language</th>\n      <td>en</td>\n      <td>en</td>\n      <td>en</td>\n      <td>en</td>\n      <td>en</td>\n      <td>en</td>\n      <td>en</td>\n      <td>en</td>\n      <td>en</td>\n      <td>en</td>\n      <td>...</td>\n      <td>en</td>\n      <td>en</td>\n      <td>en</td>\n      <td>en</td>\n      <td>en</td>\n      <td>en</td>\n      <td>en</td>\n      <td>en</td>\n      <td>en</td>\n      <td>en</td>\n    </tr>\n    <tr>\n      <th>description</th>\n      <td>About Idorsia Pharmaceuticals Ltd\\n\\nIdorsia L...</td>\n      <td>At Roche, we believe it’s urgent to deliver me...</td>\n      <td>Pharmaceutical Sciences (PS) is a global funct...</td>\n      <td>At Roche, we believe it’s urgent to deliver me...</td>\n      <td>At Roche, we believe it’s urgent to deliver me...</td>\n      <td>Monte Rosa Therapeutics is looking for an ener...</td>\n      <td>Who we are\\n\\nAt Roche, we believe it’s urgent...</td>\n      <td>At Roche, we believe it’s urgent to deliver me...</td>\n      <td>Job Description\\n\\n6000! That’s the number of ...</td>\n      <td>Cimeio Therapeutics offers an Internship in th...</td>\n      <td>...</td>\n      <td>Monte Rosa Therapeutics (MRT) seeks to recruit...</td>\n      <td>About Syngenta\\n\\nDescription\\n\\nSyngenta is l...</td>\n      <td>We are a Life Science and IT service provider ...</td>\n      <td>We are seeking an energetic and self-motivated...</td>\n      <td>In Roche Pharmaceutical Research and Early Dev...</td>\n      <td>Roche's Clinical Development organization is s...</td>\n      <td>The Lead / Senior Medical Director for Roche I...</td>\n      <td>The Adecco Group is the world’s leading HR sol...</td>\n      <td>The Position\\n\\nRoche's Clinical Development o...</td>\n      <td>We are a Life Science and IT service provider ...</td>\n    </tr>\n    <tr>\n      <th>score</th>\n      <td>0</td>\n      <td>0</td>\n      <td>0</td>\n      <td>0</td>\n      <td>0</td>\n      <td>0</td>\n      <td>0</td>\n      <td>0</td>\n      <td>0</td>\n      <td>0</td>\n      <td>...</td>\n      <td>0</td>\n      <td>0</td>\n      <td>0</td>\n      <td>0</td>\n      <td>0</td>\n      <td>0</td>\n      <td>0</td>\n      <td>0</td>\n      <td>0</td>\n      <td>0</td>\n    </tr>\n  </tbody>\n</table>\n<p>6 rows × 159 columns</p>\n</div>"
     },
     "metadata": {},
     "execution_count": 51
    }
   ],
   "source": [
    "df = pd.DataFrame(jobs['2022-04-29']).applymap(lambda x:x.strip() if type(x) == str else x)\n",
    "\n",
    "df"
   ]
  },
  {
   "cell_type": "code",
   "execution_count": 52,
   "metadata": {},
   "outputs": [
    {
     "output_type": "execute_result",
     "data": {
      "text/plain": [
       "                                                 title  \\\n",
       "id                                                       \n",
       "1    Trainee - Cell Metabolism and Anti-Infectives ...   \n",
       "2    Student Internship for the Development of DNA ...   \n",
       "3                   Student Internship in Immunosafety   \n",
       "4    Student Internship for the development of Spat...   \n",
       "5    Master Student Internship in Genetics and Geno...   \n",
       "..                                                 ...   \n",
       "155  Medical Director, Product Development Oncology...   \n",
       "156    Lead/Senior Medical Director Pediatric Oncology   \n",
       "157              Global Account Director Life Sciences   \n",
       "158  Medical Director, Product Development Oncology...   \n",
       "159        Data Engineer Consultant and Technical Lead   \n",
       "\n",
       "                                                   url language  \\\n",
       "id                                                                \n",
       "1    https://ch.linkedin.com/jobs/view/trainee-cell...       en   \n",
       "2    https://ch.linkedin.com/jobs/view/student-inte...       en   \n",
       "3    https://ch.linkedin.com/jobs/view/student-inte...       en   \n",
       "4    https://ch.linkedin.com/jobs/view/student-inte...       en   \n",
       "5    https://ch.linkedin.com/jobs/view/master-stude...       en   \n",
       "..                                                 ...      ...   \n",
       "155  https://ch.linkedin.com/jobs/view/medical-dire...       en   \n",
       "156  https://ch.linkedin.com/jobs/view/lead-senior-...       en   \n",
       "157  https://ch.linkedin.com/jobs/view/global-accou...       en   \n",
       "158  https://ch.linkedin.com/jobs/view/medical-dire...       en   \n",
       "159  https://ch.linkedin.com/jobs/view/data-enginee...       en   \n",
       "\n",
       "                                           description score  \n",
       "id                                                            \n",
       "1    About Idorsia Pharmaceuticals Ltd\\n\\nIdorsia L...     0  \n",
       "2    At Roche, we believe it’s urgent to deliver me...     0  \n",
       "3    Pharmaceutical Sciences (PS) is a global funct...     0  \n",
       "4    At Roche, we believe it’s urgent to deliver me...     0  \n",
       "5    At Roche, we believe it’s urgent to deliver me...     0  \n",
       "..                                                 ...   ...  \n",
       "155  Roche's Clinical Development organization is s...     0  \n",
       "156  The Lead / Senior Medical Director for Roche I...     0  \n",
       "157  The Adecco Group is the world’s leading HR sol...     0  \n",
       "158  The Position\\n\\nRoche's Clinical Development o...     0  \n",
       "159  We are a Life Science and IT service provider ...     0  \n",
       "\n",
       "[159 rows x 5 columns]"
      ],
      "text/html": "<div>\n<style scoped>\n    .dataframe tbody tr th:only-of-type {\n        vertical-align: middle;\n    }\n\n    .dataframe tbody tr th {\n        vertical-align: top;\n    }\n\n    .dataframe thead th {\n        text-align: right;\n    }\n</style>\n<table border=\"1\" class=\"dataframe\">\n  <thead>\n    <tr style=\"text-align: right;\">\n      <th></th>\n      <th>title</th>\n      <th>url</th>\n      <th>language</th>\n      <th>description</th>\n      <th>score</th>\n    </tr>\n    <tr>\n      <th>id</th>\n      <th></th>\n      <th></th>\n      <th></th>\n      <th></th>\n      <th></th>\n    </tr>\n  </thead>\n  <tbody>\n    <tr>\n      <th>1</th>\n      <td>Trainee - Cell Metabolism and Anti-Infectives ...</td>\n      <td>https://ch.linkedin.com/jobs/view/trainee-cell...</td>\n      <td>en</td>\n      <td>About Idorsia Pharmaceuticals Ltd\\n\\nIdorsia L...</td>\n      <td>0</td>\n    </tr>\n    <tr>\n      <th>2</th>\n      <td>Student Internship for the Development of DNA ...</td>\n      <td>https://ch.linkedin.com/jobs/view/student-inte...</td>\n      <td>en</td>\n      <td>At Roche, we believe it’s urgent to deliver me...</td>\n      <td>0</td>\n    </tr>\n    <tr>\n      <th>3</th>\n      <td>Student Internship in Immunosafety</td>\n      <td>https://ch.linkedin.com/jobs/view/student-inte...</td>\n      <td>en</td>\n      <td>Pharmaceutical Sciences (PS) is a global funct...</td>\n      <td>0</td>\n    </tr>\n    <tr>\n      <th>4</th>\n      <td>Student Internship for the development of Spat...</td>\n      <td>https://ch.linkedin.com/jobs/view/student-inte...</td>\n      <td>en</td>\n      <td>At Roche, we believe it’s urgent to deliver me...</td>\n      <td>0</td>\n    </tr>\n    <tr>\n      <th>5</th>\n      <td>Master Student Internship in Genetics and Geno...</td>\n      <td>https://ch.linkedin.com/jobs/view/master-stude...</td>\n      <td>en</td>\n      <td>At Roche, we believe it’s urgent to deliver me...</td>\n      <td>0</td>\n    </tr>\n    <tr>\n      <th>...</th>\n      <td>...</td>\n      <td>...</td>\n      <td>...</td>\n      <td>...</td>\n      <td>...</td>\n    </tr>\n    <tr>\n      <th>155</th>\n      <td>Medical Director, Product Development Oncology...</td>\n      <td>https://ch.linkedin.com/jobs/view/medical-dire...</td>\n      <td>en</td>\n      <td>Roche's Clinical Development organization is s...</td>\n      <td>0</td>\n    </tr>\n    <tr>\n      <th>156</th>\n      <td>Lead/Senior Medical Director Pediatric Oncology</td>\n      <td>https://ch.linkedin.com/jobs/view/lead-senior-...</td>\n      <td>en</td>\n      <td>The Lead / Senior Medical Director for Roche I...</td>\n      <td>0</td>\n    </tr>\n    <tr>\n      <th>157</th>\n      <td>Global Account Director Life Sciences</td>\n      <td>https://ch.linkedin.com/jobs/view/global-accou...</td>\n      <td>en</td>\n      <td>The Adecco Group is the world’s leading HR sol...</td>\n      <td>0</td>\n    </tr>\n    <tr>\n      <th>158</th>\n      <td>Medical Director, Product Development Oncology...</td>\n      <td>https://ch.linkedin.com/jobs/view/medical-dire...</td>\n      <td>en</td>\n      <td>The Position\\n\\nRoche's Clinical Development o...</td>\n      <td>0</td>\n    </tr>\n    <tr>\n      <th>159</th>\n      <td>Data Engineer Consultant and Technical Lead</td>\n      <td>https://ch.linkedin.com/jobs/view/data-enginee...</td>\n      <td>en</td>\n      <td>We are a Life Science and IT service provider ...</td>\n      <td>0</td>\n    </tr>\n  </tbody>\n</table>\n<p>159 rows × 5 columns</p>\n</div>"
     },
     "metadata": {},
     "execution_count": 52
    }
   ],
   "source": [
    "df = df.T.set_index('id')\n",
    "df"
   ]
  },
  {
   "cell_type": "code",
   "execution_count": 53,
   "metadata": {},
   "outputs": [
    {
     "output_type": "stream",
     "name": "stdout",
     "text": [
      "About Idorsia Pharmaceuticals Ltd\n\nIdorsia Ltd is reaching out for more - We have more ideas, we see more opportunities and we want to help more patients.\n\nIn order to achieve this, we will develop Idorsia into one of Europe’s leading biopharmaceutical companies, with a strong scientific core.\n\nHeadquartered in the Basel Area (Allschwil) in Switzerland - a European biotech hub - Idorsia is specialized in the discovery and development of small molecules, to transform the horizon of therapeutic options. Idorsia has a broad portfolio of innovative drugs in the pipeline, an experienced team, a fully-functional research center, and a strong balance sheet – the ideal constellation to bringing R&D efforts to business success.\n\nIdorsia was listed on the SIX Swiss Exchange (ticker symbol: IDIA) in June 2017 and has over 800 highly qualified specialists dedicated to realizing our ambitious targets.\n\nFor our in-vivo laboratories in Pharmacology, we are looking for an experienced Lab Technician to support our existing lab team in the ,.\n\n\n\nThis position is exclusively assigned to work .\n\n\n\n\n\n\n\nAllschwil – Basel Area\n\nSwitzerland\n\nDrug Discovery Animal Facilities\n\nPart-time on weekends\n\nTemporary\n\n2890\n\nIf you are interested, please click on apply now.\n\nPlease be informed that if you are selected for this position, your employment will be subject to a pre-employment background screening process, of which you will be informed in greater detail in due course.\n\nIdorsia operates a strictly controlled list of preferred recruitment partners. For those partners who have no valid, signed Master Service Agreement in place with Idorsia, please note that all unsolicited resumes, CVs, anonymous profiles, or any other candidate details submitted through our website or to personal e-mail accounts of employees of Idorsia Pharmaceuticals (including any of its subsidiaries, affiliates or related companies) are considered the property of Idorsia Pharmaceuticals and are not subject to payment of any form of introduction, placement or referral fees.\n"
     ]
    }
   ],
   "source": [
    "print(df.loc[20]['description'])"
   ]
  },
  {
   "cell_type": "code",
   "execution_count": 77,
   "metadata": {},
   "outputs": [],
   "source": [
    "import dash_table"
   ]
  },
  {
   "cell_type": "code",
   "execution_count": 82,
   "metadata": {},
   "outputs": [],
   "source": [
    "#df = pd.DataFrame(jobs).applymap(lambda x:x.strip() if type(x) == str else x).T\n",
    "#df_table = dash_table.DataTable(df.to_dict('records'), [{\"name\":i, \"id\": i} for i in df.columns], id = 'df')\n",
    "record_list = df.to_dict('records')"
   ]
  },
  {
   "cell_type": "code",
   "execution_count": 86,
   "metadata": {},
   "outputs": [
    {
     "output_type": "execute_result",
     "data": {
      "text/plain": [
       "beitung und Archivierung von medizinischen Anfragen. Im Marketing unterstützen Sie den Vertrieb mit der Betreuung von ausgewählten AD-Mitarbeitern und organisieren verkaufstechnische, produkte- und konkurrenzspezifische Aus- und Weiterbildung von Aussendienstmitarbeitern. Sie unterstützen die Geschäftsleitung hinsichtlich der RX-Produkte in der Erarbeitung von wissenschaftlichen Strategien für den Absatzmarkt Schweiz. Dazu nehmen Sie die Auswertung von Marktanalysen und Panelzahlen mit entsprechender Umsetzung in neue Strategien vor.\\n\\nIhre Persönlichkeit\\n\\nFür diese Führungsposition bringen Sie einen Universitätsabschluss in Chemie, Pharmazie oder Biologie mit und verfügen über einige Jahre Berufserfahrung in einer ähnlichen Funktion.\\n\\nWeiter sind Sie gewandt im Umgang mit den MS-Office Programmen und ERP. Ihre Muttersprache ist Deutsch und Englisch sprechen Sie konversationssicher.\\n\\nAls Führungskraft besitzen Sie eine hohe Eigenverantwortung und sind an selbstständiges und exaktes Arbeiten gewöhnt. Sie sind eine belastbare Person, welche gerne die Initiative ergreift und Verantwortung übernimmt. Ihre Führungskompetenz und Ihr Organisationsflair runden Ihr Profil ab.\\n\\nIhre Perspektiven\\n\\nEs erwartet Sie eine interessante und herausfordernde Aufgabe in einem nationalen Umfeldmit einem hohen Mass an Verantwortungsbewusstsein und Entscheidungskompetenz. Unser Kunde verfügt über eine Unternehmenskultur, die sich durch hohes Engagement, Transparenz sowie enge Zusammenarbeit auszeichnet.', 'score': 0}, {'title': 'Temporary - Head of EU Regulatory Affairs', 'url': 'https://ch.linkedin.com/jobs/view/temporary-head-of-eu-regulatory-affairs-at-headcount-ag-3019441252', 'language': 'en', 'description': \"headcount AG is a Zurich-based consultancy serving clients in the pharmaceutical, biotechnology, medical technology, diagnostic, OTC and chemical market segments.\\n\\nOur client is a global pharmaceutical company, currently expanding their footprint in Europe. Due to pressing milestones, the company requires interim support during the ongoing buildout of the Regulatory team.\\n\\nIt's key that we bring in someone who has a strong strategic background, but also is able to work operationally in order to reach milestones. There will be resources available internally and/or externally as required.\\n\\n\\n\\nSenior Director, Head of EU Regulatory, is responsible for developing and implementing regulatory strategies for all assigned products with the intention of achieving successful registration and life-cycle management of unique and technologically complex products serving patients with cancer. This individual will, with a high sense of urgency, lead a team of regulatory professionals to provide operational and strategic regulatory input to cross-functional teams responsible for development programs in EU & EEA and other European Countries. The individual will also ensure effective communication and constructive working relationships with business partners and representatives of regulatory authorities.\\n\\nUnder the leadership of the Global Head of Regulatory Affairs, SVP, the Senior Director is responsible to:\", 'score': 0}, {'title': 'Director, Head of CADD / Computational Chemistry', 'url': 'https://ch.linkedin.com/jobs/view/director-head-of-cadd-computational-chemistry-at-monte-rosa-therapeutics-3026617041', 'language': 'en', 'description': 'Monte Rosa Therapeutics (MRT) seeks to recruit an experienced, highly skilled, and creative computational chemist and drug designer to lead MRT’s CADD team. You will connect chemistry to biology to rationally design a new class of novel molecular glue degraders (MGDs). The successful candidate will be involved in all aspects of chemistry research activities, interface with team members on the development of unique chemical matter to solve novel biological problems and contribute to the development of our growing program portfolio. You will work tightly with chemistry, biology, data sciences and machine learning, and biomolecular teams to develop, validate and optimize novel chemical matter to treat patients. In this position, you will make significant contributions at the forefront of drug discovery. Monte Rosa is based in Basel and Boston.', 'score': 0}, {'title': 'Real-World Data Domain Lead', 'url': 'https://ch.linkedin.com/jobs/view/real-world-data-domain-lead-at-syngenta-3014593912', 'language': 'en', 'description': 'About Syngenta\\n\\nDescription\\n\\nSyngenta is leading science-based agtech company; dedicated to bringing plant potential to life. Each of our 28,000 employees in more than 90 countries work together to solve one of humanity’s most pressing challenges: growing more food with fewer resources. A diverse workforce and an inclusive workplace environment are enablers of our ambition to be the most collaborative and trusted team in agriculture.\\n\\nOur employees reflect the diversity of our customers, the markets where we operate and the communities which we serve. No matter what your position, you will have a vital role in safely feeding the world and taking care of our planet. Join us and help shape the future of agriculture.\\n\\n\\n\\nWe are building an R&D-wide data ecosystem which will help us curate, connect and exploit data (internal and external, historical and new, scientific and operational) – making our data more Findable, Accessible, Interoperable and Reusable (FAIR) and thus the foundation of our digital transformation. We call our data platform Gaia – the Greek deity of Earth. Earth holds the soil where life grows – and connected data is the soil where novel insights and innovation grow leading to better products that meet the grower and societal needs. In Gaia, our R&D data will be organised in Data Domains – data hubs that will ingest, curate and connect like-minded data and make it accessible for different users and uses.\\n\\nWe are looking for a Data Domain Lead, to define, refine and implement the data strategy roadmap within the Real-World data domain, which includes ingestion, curation, preparation, quality, governance and transformation of internal and external data sources and types into FAIR, connected, and exploitable data products for analytics and decision-making. You will work in close partnership with the R&D leaders, data subject matter experts (SMEs) and R&D IT. You will link with the other data domain leads to adopt best practices, ensure standardization and interoperability of R&D data and metadata, drive adoption, and deliver cross-functional, cross-domain transformational use cases. You will act as a data and analytics translator and ambassador of our data platform, connected data products and domains across and beyond CP R&D.\\n\\n\\n\\n\\n\\nThis is a critical role in enabling the new strategies in R&D, such as the E2E digital capabilities and transformation.\\n\\n\\n\\n\\n\\n\\n\\n\\n\\nIn return for your skills and knowledge Syngenta will offer:\\n\\nWe embrace and encourage diversity, and this is what drives our innovation and lets us outperform the market. https://www.syngenta.com/careers/working-syngenta/diversity-and-inclusion\\n\\n\\n\\nGBR-Berkshire-Bracknell\\n\\n\\n\\nUSA-North Carolina-Greensboro, CHE-Basel-Basel\\n\\n\\n\\nR&D - Other', 'score': 0}, {'title': 'Python Developer', 'url': 'https://ch.linkedin.com/jobs/view/python-developer-at-wega-informatik-ag-2964265173', 'language': 'en', 'description': \"We are a Life Science and IT service provider that has been successfully carrying out 'state-of-the-art' projects for international customers for over 25 years, now.\\n\\nWe pride ourselves on being a dynamic forward thinking organization and we are looking for like-minded individuals that are driven by ambition and furthermore, highly motivated by challenging job opportunities, as well as financial incentives.\\nThis is a great chance to maximize your earning potential with our attractive compensation and benefits model. Wega offers many opportunities of advancement for our colleagues and team members as well as an excellent work atmosphere, which are amongst the top values of our company.\\n\\nOur\", 'score': 0}, {'title': 'Full Stack Software Engineer - Life Sciences', 'url': 'https://ch.linkedin.com/jobs/view/full-stack-software-engineer-life-sciences-at-foodbyus-3000488750', 'language': 'en', 'description': 'We are seeking an energetic and self-motivated Full Stack Software Engineer to join the Data Science Software Engineering team. This position is responsible for maintaining and expanding a family of cutting-edge scientific data pipelines and enterprise grade scientific web applications used across our company.\\n\\nAs a member of the Data Sciences organization, this position will be working closely with Chemistry, Biology, Screening, and other teams and departments, the candidate should exhibit excellent communication and collaborative skills for working on cross-functional teams, as well as demonstrate a high degree of independence and organization.\\n\\n\\n\\nThe Full Stack Software Engineer will participate on agile ceremonies, define user stories, implement, and test them. The position will also define and document internal processes and scientific data pipelines.\\n\\nAdditional responsibilities may include interaction and/or management of external resources focusing on different areas of the software development life cycle.\\n\\nAbility to adapt to rapidly changing priorities and deadlines is essential for this position.\\n\\n\\n\\nBS/MS or equivalent in computer science/software engineering/bioinformatics with at least 5 years hands-on experience in life sciences related software development preferably in a pharmaceutical setting.\\n\\nExperience with full stack development using Java, Javascript/Typescript (React), Python and Linux based shell scripting, in the context of CI/CD using Bitbucket pipelines.\\n\\nVery comfortable with the Scrum Agile methodology and supporting software tools like Jira/Bitbucket/Confluence.\\n\\nHands-on experience with Amazon Web Services: AWS Lambda, AWS Batch, Amplify, AppSync, sam deployment/Cloud Formation, CodeArtifact, S3, EC2, RDS Aurora Postgres.\\n\\nThe ideal candidate would have knowledge of life science related concepts like molecular biology, NGS, Proteomics, Genomics and their associated public domain databases like UNIPROT, SwissProt, NCBI Gene, etc.', 'score': 0}, {'title': 'Head, Adult Central Nervous System Models – Roche Institute for Translational Bioengineering (ITB)', 'url': 'https://ch.linkedin.com/jobs/view/head-adult-central-nervous-system-models-%E2%80%93-roche-institute-for-translational-bioengineering-itb-at-roche-2928643457', 'language': 'en', 'description': \"In Roche Pharmaceutical Research and Early Development Organization (pRED) we believe the rapid advances in science, technology, digital and big data are our greatest opportunity to rethink how we tackle some of the world’s toughest unmet health care needs and to have an even more profound impact on patients and society.\\n\\nAt pRED we are united by our mission to transform science into medicines. Together we create a culture defined by curiosity, responsibility and humility where our amazing people are empowered and inspired to bring forward amazing innovation at speed.\\n\\nThe Head of Adult Central Nervous System (CNS) Models for the new Institute for Translational Bioengineering (ITB) will support the Scientific Director in overseeing and leading the activities of a pRED (Pharmaceutical Research and Early Development) scientific group whose goal is to disrupt the traditional drug discovery process through innovation/big and bold ideas focused on advancing our ability to use more predictive human model systems. The Head will oversee a dedicated team within the ITB and conduct scientific activities internally and collaborate with others internally and externally on research and applications that are relevant to pRED's long-term goals of transforming science into medicines. This is a rare opportunity to be involved in the establishment and growth of a new Institute and attract talented scientists and engineers from around the world. Activities include the following:\\n\\n\\nThe position will be based in Basel, Switzerland and report to the Scientific Director of the ITB.\", 'score': 0}, {'title': 'Medical Director, Product Development Oncology (Prostate Cancer)', 'url': 'https://ch.linkedin.com/jobs/view/medical-director-product-development-oncology-prostate-cancer-at-roche-2928649100', 'language': 'en', 'description': \"Roche's Clinical Development organization is structured by therapeutic area and is responsible for developing and executing the late development (Phase II - IIIA) clinical strategies and plans that deliver medically-differentiated therapies that provide meaningful improvement to patients. The PD Medical Director participates in development of the Clinical Development (CD) strategy and plan and helps ensure effective and efficient CD plan execution for the assigned molecule(s)/indication(s). .\\n\\nPRIMARY DUTIES AND RESPONSIBILITIES:\\n\\n\\n\\nWe are looking for a M.D. professional with relevant medical experience in Prostate Cancer. With 2 or more years pharma/biotech industry experience OR is a recognized expert in the field and 2 or more years' experience with clinical trials across Phase I to III drug development. You will bring:\\n\\n\\nABILITIES:\\n\\n\\n#PDMD\\n\\nJob Level:\\n\\nIndividual contributor\", 'score': 0}, {'title': 'Lead/Senior Medical Director Pediatric Oncology', 'url': 'https://ch.linkedin.com/jobs/view/lead-senior-medical-director-pediatric-oncology-at-roche-3048429293', 'language': 'en', 'description': 'The Lead / Senior Medical Director for Roche Innovative Pediatric Drug Development (iPODD) offers the opportunity to play a critical role in expanding our global leadership to increase our impact on the fight to save lives of children with cancer, through drug development driven by strong biological rationale, innovative clinical trials aimed at drug approvals, by pursuing global access and by having patient interest drive our decisions.\\n\\nOur iPODD team is part of the Roche global late stage clinical development organization for Hemato-Oncology, based in Basel, San Francisco (Genentech) and Welwyn, UK and is a specialized pediatric team with the aim to improve outcomes for children with cancer by developing the Roche oncology portfolio in pediatric oncology using rational, science-driven and regulatory-compliant strategies.\\n\\niPODD is currently responsible for the pediatric development activities of 18 anti-cancer drugs from our late stage portfolio designing and executing early and late development (Phase I - II – III), based on rational clinical development plans (CDP) with a clear regulatory strategy aimed at product labels and access for children with cancer.\\n\\n\\n\\n\\n\\n\\n\\n\\n\\nWe are dedicated to support our staff in development of their knowledge and skills and offer further career opportunities locally and globally where people demonstrate talent and aptitude\\n\\nWho we are\\n\\nAt Roche, more than 100,000 people across 100 countries are pushing back the frontiers of healthcare. Working together, we’ve become one of the world’s leading research-focused healthcare groups. Our success is built on innovation, curiosity and diversity.\\n\\nBasel is the headquarters of the Roche Group and one of its most important centres of pharmaceutical research. Over 10,700 employees from over 100 countries come together at our Basel/Kaiseraugst site, which is one of Roche`s largest sites. Read more.\\n\\nBesides extensive development and training opportunities, we offer flexible working options, 18 weeks of maternity leave and 10 weeks of gender independent partnership leave. Our employees also benefit from multiple services on site such as child-care facilities, medical services, restaurants and cafeterias, as well as various employee events.\\n\\nWe believe in the power of diversity and inclusion, and strive to identify and create opportunities that enable all people to bring their unique selves to Roche.\\n\\nRoche is an Equal Opportunity Employer.\\n\\nJob Level:\\n\\nIndividual contributor', 'score': 0}, {'title': 'Global Account Director Life Sciences', 'url': 'https://ch.linkedin.com/jobs/view/global-account-director-life-sciences-at-the-adecco-group-3043804094', 'language': 'en', 'description': 'The Adecco Group is the world’s leading HR solutions partner. We provide more than 700,000 people with permanent and flexible employment every day. With more than 34,000 employees in 60 countries, we transform the world of work one job at a time. Our colleagues serve more than 100,000 organisations with the talent, HR services and cutting-edge technology they need to succeed in an ever-changing global economy. As a Fortune Global 500 company, we lead by example, creating shared value that meets social needs while driving business innovation. Our culture of inclusivity, fairness and teamwork empowers individuals and organisations, fuels economies, and builds better societies. These values resonate with our employees, who voted us number 7 on the Great Place to Work® - World’s Best Workplaces 2020 list. We make the future work for everyone.\\n\\n\\n\\nMission\\n\\nDevelop strategic relationship with designated Global Customers in the Life Sciences vertical at all relevant hierarchical, functional, and zonal levels, unlocking revenue and margin growth with the Adecco Group’s comprehensive portfolio of HR solutions.\\n\\nThe Global Account Director is responsible for the definition and implementation of a holistic commercial plan, aligned with Adecco’s group strategy and business objectives.\\n\\nThe Global Account Director will provide direction to a virtual country-based account management team to perform all prospecting, sales and customer service activities, to increase revenue & margin.\\n\\n\\n\\nCommercial Management/Customer Centricity\\n\\nAccount Planning/Business Excellence/Commercial Engineering\\n\\nResearch, analyse/assess and document competitors and their customers\\n\\nTeam leadership @ ADECCO\\n\\n\\n\\nEducation\\n\\nTravel\\n\\nwww.adeccogroup.com\\n\\n\\n\\nJob Code :2200008D', 'score': 0}, {'title': 'Medical Director, Product Development Oncology (Prostate Cancer)', 'url': 'https://ch.linkedin.com/jobs/view/medical-director-product-development-oncology-prostate-cancer-at-genentech-2928642406', 'language': 'en', 'description': \"The Position\\n\\nRoche's Clinical Development organization is structured by therapeutic area and is responsible for developing and executing the late development (Phase II - IIIA) clinical strategies and plans that deliver medically-differentiated therapies that provide meaningful improvement to patients. The PD Medical Director participates in development of the Clinical Development (CD) strategy and plan and helps ensure effective and efficient CD plan execution for the assigned molecule(s)/indication(s). .\\n\\nPRIMARY DUTIES AND RESPONSIBILITIES:\\n\\n\\n\\nWe are looking for a M.D. professional with relevant medical experience in Prostate Cancer. With 2 or more years pharma/biotech industry experience OR is a recognized expert in the field and 2 or more years' experience with clinical trials across Phase I to III drug development. You will bring:\\n\\nABILITIES:\\n\\n#PDMD\", 'score': 0}, {'title': 'Data Engineer Consultant and Technical Lead', 'url': 'https://ch.linkedin.com/jobs/view/data-engineer-consultant-and-technical-lead-at-wega-informatik-ag-3011623171', 'language': 'en', 'description': \"We are a Life Science and IT service provider that has been successfully carrying out 'state-of-the-art' projects for international customers for over 25 years, now.\\n\\nOur consultants work either in our office in Basel,  from home or on our customer's premises.\", 'score': 0}], columns=[{'name': 'title', 'id': 'title'}, {'name': 'url', 'id': 'url'}, {'name': 'language', 'id': 'language'}, {'name': 'description', 'id': 'description'}, {'name': 'score', 'id': 'score'}])"
      ]
     },
     "metadata": {},
     "execution_count": 86
    }
   ],
   "source": [
    "dash_table.DataTable(record_list , [{\"name\":i, \"id\": i} for i in df.columns], id = 'df')"
   ]
  },
  {
   "source": [
    "## Recapitulating a JobPostingCollection instance"
   ],
   "cell_type": "markdown",
   "metadata": {}
  },
  {
   "cell_type": "code",
   "execution_count": 54,
   "metadata": {},
   "outputs": [],
   "source": [
    "import sys\n",
    "sys.path.insert(1, \"../classes/\")"
   ]
  },
  {
   "cell_type": "code",
   "execution_count": 55,
   "metadata": {},
   "outputs": [],
   "source": [
    "from JobPosting_classes import JobPosting, JobPostingCollection"
   ]
  },
  {
   "cell_type": "code",
   "execution_count": 56,
   "metadata": {},
   "outputs": [],
   "source": [
    "jpc = JobPostingCollection()"
   ]
  },
  {
   "cell_type": "code",
   "execution_count": 57,
   "metadata": {},
   "outputs": [
    {
     "output_type": "execute_result",
     "data": {
      "text/plain": [
       "['2022-04-29']"
      ]
     },
     "metadata": {},
     "execution_count": 57
    }
   ],
   "source": [
    "list(jobs)\n",
    "\n",
    "#[jobs['2022-04-29'][job] for job in jobs['2022-04-29']][0]"
   ]
  },
  {
   "cell_type": "code",
   "execution_count": 58,
   "metadata": {},
   "outputs": [],
   "source": [
    "jpc.from_json(jobs)"
   ]
  },
  {
   "cell_type": "code",
   "execution_count": 59,
   "metadata": {},
   "outputs": [],
   "source": [
    "JobPosting.driver"
   ]
  },
  {
   "cell_type": "code",
   "execution_count": 60,
   "metadata": {},
   "outputs": [
    {
     "output_type": "execute_result",
     "data": {
      "text/plain": [
       "<JobPosting_classes.JobPosting at 0xffff71ca3a90>"
      ]
     },
     "metadata": {},
     "execution_count": 60
    }
   ],
   "source": [
    "#JobPosting(jobs['2022-04-29']['1'])\n",
    "JobPosting.from_json(jobs['2022-04-29']['1'])"
   ]
  },
  {
   "cell_type": "code",
   "execution_count": 61,
   "metadata": {},
   "outputs": [],
   "source": [
    "from importlib import reload"
   ]
  },
  {
   "cell_type": "code",
   "execution_count": 69,
   "metadata": {},
   "outputs": [],
   "source": [
    "import JobPosting_classes\n",
    "reload(JobPosting_classes)\n",
    "from JobPosting_classes import JobPosting, JobPostingCollection"
   ]
  },
  {
   "cell_type": "code",
   "execution_count": 70,
   "metadata": {},
   "outputs": [],
   "source": [
    "jpc = JobPostingCollection()"
   ]
  },
  {
   "cell_type": "code",
   "execution_count": 66,
   "metadata": {},
   "outputs": [],
   "source": [
    "jpc.add_job(JobPosting.from_json(jobs['2022-04-29']['1']))"
   ]
  },
  {
   "cell_type": "code",
   "execution_count": 67,
   "metadata": {},
   "outputs": [
    {
     "output_type": "execute_result",
     "data": {
      "text/plain": [
       "[<JobPosting_classes.JobPosting at 0xffff71d47c40>]"
      ]
     },
     "metadata": {},
     "execution_count": 67
    }
   ],
   "source": [
    "jpc.get_job_postings()"
   ]
  },
  {
   "cell_type": "code",
   "execution_count": 72,
   "metadata": {},
   "outputs": [
    {
     "output_type": "stream",
     "name": "stdout",
     "text": [
      "159 <JobPosting_classes.JobPosting object at 0xffff71dd4370>\n"
     ]
    }
   ],
   "source": [
    "jpc.from_json(jobs)#['2022-04-29']"
   ]
  },
  {
   "cell_type": "code",
   "execution_count": 73,
   "metadata": {},
   "outputs": [
    {
     "output_type": "execute_result",
     "data": {
      "text/plain": [
       "159"
      ]
     },
     "metadata": {},
     "execution_count": 73
    }
   ],
   "source": [
    "jpc.length"
   ]
  },
  {
   "cell_type": "code",
   "execution_count": 76,
   "metadata": {},
   "outputs": [
    {
     "output_type": "execute_result",
     "data": {
      "text/plain": [
       "(11, <JobPosting_classes.JobPosting at 0xffff71d99e50>)"
      ]
     },
     "metadata": {},
     "execution_count": 76
    }
   ],
   "source": [
    "jpc.get_jobs()[10]"
   ]
  },
  {
   "cell_type": "code",
   "execution_count": null,
   "metadata": {},
   "outputs": [],
   "source": []
  }
 ],
 "metadata": {
  "kernelspec": {
   "display_name": "Python 3",
   "language": "python",
   "name": "python3"
  },
  "language_info": {
   "codemirror_mode": {
    "name": "ipython",
    "version": 3
   },
   "file_extension": ".py",
   "mimetype": "text/x-python",
   "name": "python",
   "nbconvert_exporter": "python",
   "pygments_lexer": "ipython3",
   "version": "3.9.2-final"
  }
 },
 "nbformat": 4,
 "nbformat_minor": 5
}